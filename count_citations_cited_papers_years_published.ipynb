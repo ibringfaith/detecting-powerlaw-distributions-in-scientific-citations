{
 "cells": [
  {
   "cell_type": "code",
   "execution_count": null,
   "metadata": {},
   "outputs": [],
   "source": [
    "import matplotlib.pyplot as plt \n",
    "import numpy as np\n",
    "import pandas as pd\n",
    "import powerlaw\n",
    "import scipy"
   ]
  },
  {
   "cell_type": "code",
   "execution_count": null,
   "metadata": {},
   "outputs": [],
   "source": [
    "data_path = '/scratch/network/science-of-science/data/openalex-202201'"
   ]
  },
  {
   "cell_type": "code",
   "execution_count": null,
   "metadata": {},
   "outputs": [],
   "source": [
    "def read_prepared_data(path: str, source: str, cols: list, types: dict) -> pd.DataFrame:\n",
    "    dfs = []\n",
    "    for df_small in pd.read_csv(f\"{path}/{source}.txt.gz\", chunksize=10000, usecols=cols, sep='\\t', compression='gzip', dtype=types, on_bad_lines='skip', low_memory=False):\n",
    "        dfs.append(df_small)\n",
    "    return pd.concat(dfs)\n",
    "    \n",
    "def fitting_procedure(year: int, col: pd.Series):\n",
    "    fit = powerlaw.Fit(col, discrete=True, fit_method='KS')\n",
    "    k_min_fit = round(fit.find_xmin(), 1)\n",
    "    gamma = round(fit.alpha, 1)\n",
    "    fig = fit.plot_pdf(linewidth=3, label=f'Empirical Data: Year={year}, Gamma={gamma}')\n",
    "    fit.power_law.plot_pdf(ax=fig, linestyle='--', label='Power law fit')\n",
    "    handles, labels = fig.get_legend_handles_labels()\n",
    "    fig.legend(handles, labels, loc=3)\n",
    "    fig.set_ylabel(\"p(X)\")\n",
    "    fig.set_xlabel(r\"Citation Frequency\")\n",
    "    fig.set_title(r\"Probability Density Function of Citation Frequency for Cited Papers Published this Year\")\n",
    "    return k_min_fit, gamma"
   ]
  },
  {
   "cell_type": "code",
   "execution_count": null,
   "metadata": {},
   "outputs": [],
   "source": [
    "cited_ids_df = read_prepared_data(data_path, \"PaperReferences\", ['PaperReferenceId'], {\"PaperReferenceId\":'Int64'}).rename(columns={\"PaperReferenceId\": \"PaperId\"})\n",
    "papers_df = read_prepared_data(data_path, \"Papers\", ['PaperId', 'Year'], {\"PaperId\": str, \"Year\": str})"
   ]
  },
  {
   "cell_type": "code",
   "execution_count": null,
   "metadata": {},
   "outputs": [],
   "source": [
    "papers_df['PaperId'] = pd.to_numeric(papers_df['PaperId'], errors='coerce', downcast='integer')\n",
    "papers_df['Year'] = pd.to_numeric(papers_df['Year'], errors='coerce', downcast='integer')\n",
    "papers_df['PaperId'] = papers_df['PaperId'].astype('Int64')\n",
    "papers_df['Year'] = papers_df['Year'].astype('Int64')\n",
    "papers_df = papers_df.set_index('PaperId')\n",
    "cited_ids_df['CitationCount'] = cited_ids_df.groupby('PaperId').transform('size')\n",
    "cited_ids_df = cited_ids_df.drop_duplicates(subset=['PaperId'])\n",
    "cited_ids_df = cited_ids_df.set_index('PaperId')\n",
    "cited_ids_and_years_df = pd.merge(cited_ids_df, papers_df, on='PaperId')"
   ]
  },
  {
   "cell_type": "code",
   "execution_count": null,
   "metadata": {},
   "outputs": [],
   "source": [
    "cited_papers_df = cited_ids_and_years_df.dropna(subset='Year')\n",
    "\n",
    "unique_years_cited_papers = sorted(cited_papers_df.Year.unique())\n",
    "unique_years_cited_papers.remove(2023)\n",
    "unique_years_cited_papers.remove(2024)\n",
    "unique_years_cited_papers.remove(2106)\n",
    "unique_years_cited_papers.remove(20043)\n",
    "unique_years_cited_papers.remove(21822)\n",
    "\n",
    "cited_papers_dict = {elem : pd.DataFrame() for elem in unique_years_cited_papers}\n",
    "\n",
    "for key in cited_papers_dict.keys():\n",
    "    cited_papers_dict[key] = cited_papers_df[:][cited_papers_df.Year == key]\n",
    "\n",
    "for key, df in cited_papers_dict.items():\n",
    "    new_df = df.drop(columns=['Year'])\n",
    "    cited_papers_dict.update({key: new_df})"
   ]
  },
  {
   "cell_type": "code",
   "execution_count": null,
   "metadata": {},
   "outputs": [],
   "source": [
    "x = []\n",
    "y = []\n",
    "for key,df in cited_papers_dict.items():\n",
    "    k_min, gamma = fitting_procedure(key, df['CitationCount'])\n",
    "    x.append(key)\n",
    "    y.append(gamma)\n",
    "    print(f\"{key}, {gamma}\")\n",
    "    plt.show()"
   ]
  },
  {
   "cell_type": "code",
   "execution_count": null,
   "metadata": {},
   "outputs": [],
   "source": [
    "x = np.asarray(x)\n",
    "y = np.asarray(y)\n",
    "res = scipy.stats.linregress(x, y)\n",
    "plt.plot(x, y, 'o', label='results (year, gamma)')\n",
    "plt.plot(x, res.intercept + res.slope*x, 'r', label='fitted line')\n",
    "plt.title('Change in Gamma (1800 to 2022)')\n",
    "plt.xlabel('Year')\n",
    "plt.ylabel('Gamma')\n",
    "plt.legend()\n",
    "plt.show()\n",
    "print(\"Slope:\", res.slope)"
   ]
  }
 ],
 "metadata": {
  "language_info": {
   "name": "python"
  }
 },
 "nbformat": 4,
 "nbformat_minor": 2
}
