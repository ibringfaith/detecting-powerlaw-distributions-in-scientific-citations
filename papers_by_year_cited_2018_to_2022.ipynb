{
 "cells": [
  {
   "cell_type": "code",
   "execution_count": null,
   "metadata": {},
   "outputs": [],
   "source": [
    "import matplotlib.pyplot as plt \n",
    "import matplotlib.cm as cm\n",
    "import numpy as np\n",
    "import pandas as pd\n",
    "import powerlaw\n",
    "import scipy"
   ]
  },
  {
   "cell_type": "code",
   "execution_count": null,
   "metadata": {},
   "outputs": [],
   "source": [
    "data_path = '/scratch/network/science-of-science/data/openalex-202201'"
   ]
  },
  {
   "cell_type": "code",
   "execution_count": null,
   "metadata": {},
   "outputs": [],
   "source": [
    "def read_prepared_data(path: str, source: str, cols: list, types: dict) -> pd.DataFrame:\n",
    "    dfs = []\n",
    "    for df_small in pd.read_csv(f\"{path}/{source}.txt.gz\", chunksize=10000, usecols=cols, sep='\\t', compression='gzip', dtype=types, on_bad_lines='skip', low_memory=False):\n",
    "        dfs.append(df_small)\n",
    "    return pd.concat(dfs)\n",
    "    \n",
    "def fitting_procedure_yearly(year: int, col: pd.Series):\n",
    "    fit = powerlaw.Fit(col, discrete=True, fit_method='KS')\n",
    "    k_min_fit = round(fit.find_xmin(), 1)\n",
    "    gamma = round(fit.alpha, 1)\n",
    "    fig = fit.plot_pdf(linewidth=3, label=f'Empirical Data: Year={year}, Gamma={gamma}')\n",
    "    fit.power_law.plot_pdf(ax=fig, linestyle='--', label='Power law fit')\n",
    "    handles, labels = fig.get_legend_handles_labels()\n",
    "    fig.legend(handles, labels, loc=3)\n",
    "    fig.set_ylabel(\"p(X)\")\n",
    "    fig.set_xlabel(r\"Citations (X)\")\n",
    "    fig.set_title(r\"Probability Density Function of Citation Frequency for Papers Cited this Year\")\n",
    "    return k_min_fit, gamma\n",
    "\n",
    "def fitting_procedure_total(col: pd.Series, color):\n",
    "    fit = powerlaw.Fit(col, discrete=True, fit_method='KS')\n",
    "    k_min_fit = round(fit.find_xmin(), 1)\n",
    "    gamma = round(fit.alpha, 1)\n",
    "    fig = fit.plot_pdf(linewidth=3, color=color)\n",
    "    fit.power_law.plot_pdf(ax=fig, linestyle='--', label='Power law fit', color=color)\n",
    "    fig.set_ylabel(\"p(X)\")\n",
    "    fig.set_xlabel(r\"Citations (X)\")\n",
    "    fig.set_title(r\"Probability Density Function of Citation Frequency for Papers Cited by Year (2018 to 2022)\")\n",
    "    return k_min_fit, gamma"
   ]
  },
  {
   "cell_type": "code",
   "execution_count": null,
   "metadata": {},
   "outputs": [],
   "source": [
    "cited_ids_df = read_prepared_data(data_path, \"PaperReferences\", ['PaperId', 'PaperReferenceId'], {\"PaperId\":'Int64', \"PaperReferenceId\":'Int64'})\n",
    "papers_df = read_prepared_data(data_path, \"Papers\", ['PaperId', 'Year'], {\"PaperId\": str, \"Year\": str})"
   ]
  },
  {
   "cell_type": "code",
   "execution_count": null,
   "metadata": {},
   "outputs": [],
   "source": [
    "papers_df['PaperId'] = pd.to_numeric(papers_df['PaperId'], errors='coerce', downcast='integer')\n",
    "papers_df['Year'] = pd.to_numeric(papers_df['Year'], errors='coerce', downcast='integer')\n",
    "papers_df['PaperId'] = papers_df['PaperId'].astype('Int64')\n",
    "papers_df['Year'] = papers_df['Year'].astype('Int64')\n",
    "papers_2018_to_2022_df = papers_df[(papers_df['Year'] > 2017) & (papers_df['Year'] < 2023)] "
   ]
  },
  {
   "cell_type": "code",
   "execution_count": null,
   "metadata": {},
   "outputs": [],
   "source": [
    "cited_ids_df = cited_ids_df.set_index('PaperId')\n",
    "cited_ids_and_years_df = pd.merge(cited_ids_df, papers_2018_to_2022_df, on='PaperId')\n",
    "# citation count of a given paper in a given year\n",
    "cited_ids_and_years_df['CitationCount'] = cited_ids_and_years_df.groupby(['PaperReferenceId', 'Year']).transform('size')\n",
    "cited_ids_and_years_df = cited_ids_and_years_df.drop_duplicates(subset=['PaperReferenceId'])"
   ]
  },
  {
   "cell_type": "code",
   "execution_count": null,
   "metadata": {},
   "outputs": [],
   "source": [
    "cited_papers_df = cited_ids_and_years_df.drop(columns=['PaperId']).dropna(subset='Year')\n",
    "\n",
    "unique_years_cited_papers = sorted(cited_papers_df.Year.unique())\n",
    "\n",
    "cited_papers_dict = {elem : pd.DataFrame() for elem in unique_years_cited_papers}\n",
    "\n",
    "for key in cited_papers_dict.keys():\n",
    "    cited_papers_dict[key] = cited_papers_df[:][cited_papers_df.Year == key]\n",
    "\n",
    "for key, df in cited_papers_dict.items():\n",
    "    new_df = df.drop(columns=['Year'])\n",
    "    cited_papers_dict.update({key: new_df})"
   ]
  },
  {
   "cell_type": "code",
   "execution_count": null,
   "metadata": {},
   "outputs": [],
   "source": [
    "for key,df in cited_papers_dict.items():\n",
    "    k_min, gamma = fitting_procedure_yearly(key, df['CitationCount'])\n",
    "    print(f\"{key}, {gamma}\")\n",
    "    plt.show()"
   ]
  },
  {
   "cell_type": "code",
   "execution_count": null,
   "metadata": {},
   "outputs": [],
   "source": [
    "num_colors = len(cited_papers_dict)\n",
    "colors = cm.RdBu(np.linspace(0, 1, num_colors))\n",
    "\n",
    "for i, (key, df) in enumerate(cited_papers_dict.items()):\n",
    "    k_min, gamma = fitting_procedure_total(df['CitationCount'], colors[i])\n",
    "    print(f\"{key}, {gamma}\")\n",
    "    \n",
    "plt.show()"
   ]
  },
  {
   "cell_type": "code",
   "execution_count": null,
   "metadata": {},
   "outputs": [],
   "source": [
    "# put years (1930 to 2022) and corresponding gammas into arrays to calculate change in gamma for entire timespan\n",
    "years = []\n",
    "for year in range(1930, 2023):\n",
    "    years.append(year)\n",
    "gammas = [3.9, 3.8, 3.9, 3.8, 3.9, 4.2, 4.0, 4.0, 3.8, 3.7, 3.9, 4.2, 4.0, 4.1, 3.8, 3.6, 3.6, 3.9, 3.9, 3.7, 3.7, 3.6, 3.7, 3.6, 3.6, 3.6, 3.6, 3.5, 3.5, 3.5, 3.5, 3.4, 3.4, 3.4, 3.3, 2.7, 3.3, 3.3, 3.2, 3.3, 3.2, 3.2, 3.2, 3.2, 3.2, 3.3, 3.2, 3.2, 3.2, 2.9, 3.0, 3.0, 2.9, 3.3, 3.0, 3.0, 2.9, 3.0, 3.1, 2.9, 3.2, 3.2, 3.1, 2.9, 3.2, 2.8, 3.1, 3.0, 3.1, 3.1, 3.0, 3.0, 3.0, 3.0, 2.9, 2.9, 2.9, 2.8, 2.8, 2.8, 2.8, 2.8, 2.8, 2.8, 2.7, 2.7, 2.8, 2.8, 2.8, 2.8, 2.8, 2.8, 3.2]"
   ]
  },
  {
   "cell_type": "code",
   "execution_count": null,
   "metadata": {},
   "outputs": [],
   "source": [
    "x = np.asarray(years)\n",
    "y = np.asarray(gammas)\n",
    "res = scipy.stats.linregress(x, y)\n",
    "plt.plot(x, y, 'o', label='results (year, gamma)')\n",
    "plt.plot(x, res.intercept + res.slope*x, 'r', label='fitted line')\n",
    "plt.title('Change in Gamma (1930 to 2022)')\n",
    "plt.xlabel('Year')\n",
    "plt.ylabel('Gamma')\n",
    "plt.legend()\n",
    "plt.show()\n",
    "print(\"Slope:\", res.slope)"
   ]
  }
 ],
 "metadata": {
  "language_info": {
   "name": "python"
  }
 },
 "nbformat": 4,
 "nbformat_minor": 2
}
