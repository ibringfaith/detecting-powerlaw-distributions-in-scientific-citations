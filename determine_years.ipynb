{
 "cells": [
  {
   "cell_type": "code",
   "execution_count": null,
   "metadata": {},
   "outputs": [],
   "source": [
    "import matplotlib.pyplot as plt \n",
    "import pandas as pd"
   ]
  },
  {
   "cell_type": "code",
   "execution_count": null,
   "metadata": {},
   "outputs": [],
   "source": [
    "data_path = '/scratch/network/science-of-science/data/openalex-202201'"
   ]
  },
  {
   "cell_type": "code",
   "execution_count": null,
   "metadata": {},
   "outputs": [],
   "source": [
    "def read_prepared_data(path: str, source: str, cols: list, types: dict) -> pd.DataFrame:\n",
    "    dfs = []\n",
    "    for df_small in pd.read_csv(f\"{path}/{source}.txt.gz\", chunksize=10000, usecols=cols, sep='\\t', compression='gzip', dtype=types, on_bad_lines='skip', low_memory=False):\n",
    "        dfs.append(df_small)\n",
    "    return pd.concat(dfs)"
   ]
  },
  {
   "cell_type": "code",
   "execution_count": null,
   "metadata": {},
   "outputs": [],
   "source": [
    "papers_df = read_prepared_data(data_path, \"Papers\", ['PaperId', 'Year'], {\"PaperId\": str, \"Year\": str})"
   ]
  },
  {
   "cell_type": "code",
   "execution_count": null,
   "metadata": {},
   "outputs": [],
   "source": [
    "papers_df['PaperId'] = pd.to_numeric(papers_df['PaperId'], errors='coerce', downcast='integer')\n",
    "papers_df['Year'] = pd.to_numeric(papers_df['Year'], errors='coerce', downcast='integer')\n",
    "papers_df['PaperId'] = papers_df['PaperId'].astype('Int64')\n",
    "papers_df['Year'] = papers_df['Year'].astype('Int64')\n",
    "papers_without_nulls_df = papers_df.dropna()"
   ]
  },
  {
   "cell_type": "code",
   "execution_count": null,
   "metadata": {},
   "outputs": [],
   "source": [
    "# check range of years \n",
    "papers_without_nulls_df['PapersCount'] = papers_without_nulls_df.groupby('Year').transform('size')\n",
    "sorted_papers_df = papers_without_nulls_df.sort_values(by=['Year'])\n",
    "sorted_papers_within_reasonable_years_df = sorted_papers_df[(sorted_papers_df['Year']>=1800) & (sorted_papers_df['Year']<=2024)]\n",
    "sorted_papers_within_reasonable_years_df"
   ]
  },
  {
   "cell_type": "code",
   "execution_count": null,
   "metadata": {},
   "outputs": [],
   "source": [
    "sorted_papers_within_reasonable_years_df.plot.scatter(x='Year', y='PapersCount', color='green')\n",
    "plt.title('Number of Papers Published from 1800 to 2024')\n",
    "plt.xlabel('Year')\n",
    "plt.ylabel('Number of Papers')\n",
    "plt.show()"
   ]
  },
  {
   "cell_type": "code",
   "execution_count": null,
   "metadata": {},
   "outputs": [],
   "source": [
    "sufficient_num_papers_per_year_df = sorted_papers_within_reasonable_years_df[sorted_papers_within_reasonable_years_df['PapersCount']>=100000]\n",
    "sorted_sufficient_num_papers_per_year_df = sorted_papers_within_reasonable_years_df.sort_values(by=['Year'])\n",
    "sorted_sufficient_num_papers_per_year_df # count citations of papers published/cited between 1930 and 2022"
   ]
  },
  {
   "cell_type": "code",
   "execution_count": null,
   "metadata": {},
   "outputs": [],
   "source": [
    "sorted_sufficient_num_papers_per_year_df.plot.scatter(x='Year', y='PapersCount', color='green')\n",
    "plt.title('Number of Papers Published from 1930 to 2022')\n",
    "plt.xlabel('Year')\n",
    "plt.ylabel('Number of Papers')\n",
    "plt.show()"
   ]
  }
 ],
 "metadata": {
  "language_info": {
   "name": "python"
  }
 },
 "nbformat": 4,
 "nbformat_minor": 2
}
