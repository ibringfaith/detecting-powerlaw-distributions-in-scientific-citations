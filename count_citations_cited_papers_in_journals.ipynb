{
 "cells": [
  {
   "cell_type": "code",
   "execution_count": null,
   "metadata": {},
   "outputs": [],
   "source": [
    "import matplotlib.pyplot as plt \n",
    "import numpy as np\n",
    "import pandas as pd\n",
    "import powerlaw\n",
    "import scipy"
   ]
  },
  {
   "cell_type": "code",
   "execution_count": null,
   "metadata": {},
   "outputs": [],
   "source": [
    "data_path = '/scratch/network/science-of-science/data/openalex-202201'"
   ]
  },
  {
   "cell_type": "code",
   "execution_count": null,
   "metadata": {},
   "outputs": [],
   "source": [
    "def read_prepared_data(path: str, source: str, cols: list, types: dict) -> pd.DataFrame:\n",
    "    dfs = []\n",
    "    for df_small in pd.read_csv(f\"{path}/{source}.txt.gz\", chunksize=10000, usecols=cols, sep='\\t', compression='gzip', dtype=types, on_bad_lines='skip', low_memory=False):\n",
    "        dfs.append(df_small)\n",
    "    return pd.concat(dfs)\n",
    "    \n",
    "def fitting_procedure_yearly(year: int, col: pd.Series):\n",
    "    fit = powerlaw.Fit(col, discrete=True, fit_method='KS')\n",
    "    k_min_fit = round(fit.find_xmin(), 1)\n",
    "    gamma = round(fit.alpha, 1)\n",
    "    fig = fit.plot_pdf(linewidth=3, label=f'Empirical Data: Year={year}, Gamma={gamma}')\n",
    "    fit.power_law.plot_pdf(ax=fig, linestyle='--', label='Power law fit')\n",
    "    handles, labels = fig.get_legend_handles_labels()\n",
    "    fig.legend(handles, labels, loc=3)\n",
    "    fig.set_ylabel(\"p(X)\")\n",
    "    fig.set_xlabel(r\"Citation Frequency\")\n",
    "    fig.set_title(r\"Probability Density Function of Citation Frequency for Cited Papers Published this Year in Journals\")\n",
    "    return k_min_fit, gamma\n",
    "\n",
    "def fitting_procedure_total(col: pd.Series):\n",
    "    fit = powerlaw.Fit(col, discrete=True, fit_method='KS')\n",
    "    k_min_fit = round(fit.find_xmin(), 1)\n",
    "    gamma = round(fit.alpha, 1)\n",
    "    fig = fit.plot_pdf(linewidth=3)\n",
    "    fit.power_law.plot_pdf(ax=fig, linestyle='--', label='Power law fit')\n",
    "    fig.set_ylabel(\"p(X)\")\n",
    "    fig.set_xlabel(r\"Citation Frequency\")\n",
    "    fig.set_title(r\"Probability Density Function of Citation Frequency for Cited Papers Published in Journals from 1800 to 2022\")\n",
    "    return k_min_fit, gamma"
   ]
  },
  {
   "cell_type": "code",
   "execution_count": null,
   "metadata": {},
   "outputs": [],
   "source": [
    "papers_df = read_prepared_data(data_path, \"Papers\", ['Year', 'JournalId', 'CitationCount'], {\"Year\": str, \"JournalId\": str, \"CitationCount\": str})"
   ]
  },
  {
   "cell_type": "code",
   "execution_count": null,
   "metadata": {},
   "outputs": [],
   "source": [
    "papers_df['CitationCount'] = pd.to_numeric(papers_df['CitationCount'], errors='coerce', downcast='integer')\n",
    "papers_df['Year'] = pd.to_numeric(papers_df['Year'], errors='coerce', downcast='integer')\n",
    "papers_df['JournalId'] = pd.to_numeric(papers_df['JournalId'], errors='coerce', downcast='integer')\n",
    "papers_df['CitationCount'] = papers_df['CitationCount'].astype('Int64')\n",
    "papers_df['Year'] = papers_df['Year'].astype('Int64')\n",
    "papers_df['JournalId'] = papers_df['JournalId'].astype('Int64')"
   ]
  },
  {
   "cell_type": "code",
   "execution_count": null,
   "metadata": {},
   "outputs": [],
   "source": [
    "papers_without_nulls_df = papers_df.dropna()"
   ]
  },
  {
   "cell_type": "code",
   "execution_count": null,
   "metadata": {},
   "outputs": [],
   "source": [
    "papers_without_nulls_and_zeros_df = papers_without_nulls_df[papers_without_nulls_df['CitationCount'] != 0]"
   ]
  },
  {
   "cell_type": "code",
   "execution_count": null,
   "metadata": {},
   "outputs": [],
   "source": [
    "cited_papers_and_journals_df = papers_without_nulls_and_zeros_df.groupby(by=[\"JournalId\", \"Year\"], as_index=False).agg({'CitationCount':'sum'})"
   ]
  },
  {
   "cell_type": "code",
   "execution_count": null,
   "metadata": {},
   "outputs": [],
   "source": [
    "unique_years_cited_papers = sorted(cited_papers_and_journals_df.Year.unique())\n",
    "\n",
    "cited_papers_dict = {elem : pd.DataFrame() for elem in unique_years_cited_papers}\n",
    "\n",
    "for key in cited_papers_dict.keys():\n",
    "    cited_papers_dict[key] = cited_papers_and_journals_df[:][cited_papers_and_journals_df.Year == key]\n",
    "\n",
    "for key, df in cited_papers_dict.items():\n",
    "    new_df = df.drop(columns=['Year'])\n",
    "    cited_papers_dict.update({key: new_df})"
   ]
  },
  {
   "cell_type": "code",
   "execution_count": null,
   "metadata": {},
   "outputs": [],
   "source": [
    "x = []\n",
    "y = []\n",
    "for key,df in cited_papers_dict.items():\n",
    "    k_min, gamma = fitting_procedure_yearly(key, df['CitationCount'])\n",
    "    if key > 1889:\n",
    "        x.append(key)\n",
    "        y.append(gamma)\n",
    "    print(f\"{key}, {gamma}\")\n",
    "    plt.show()"
   ]
  },
  {
   "cell_type": "code",
   "execution_count": null,
   "metadata": {},
   "outputs": [],
   "source": [
    "for key,df in cited_papers_dict.items():\n",
    "    k_min, gamma = fitting_procedure_total(df['CitationCount'])\n",
    "    print(f\"{key}, {gamma}\")"
   ]
  },
  {
   "cell_type": "code",
   "execution_count": null,
   "metadata": {},
   "outputs": [],
   "source": [
    "x = np.asarray(x)\n",
    "y = np.asarray(y)\n",
    "res = scipy.stats.linregress(x, y)\n",
    "plt.plot(x, y, 'o', label='results (year, gamma)')\n",
    "plt.plot(x, res.intercept + res.slope*x, 'r', label='fitted line')\n",
    "plt.title('Change in Gamma (1890 to 2022)')\n",
    "plt.xlabel('Year')\n",
    "plt.ylabel('Gamma')\n",
    "plt.legend()\n",
    "plt.show()\n",
    "print(\"Slope:\", res.slope)"
   ]
  }
 ],
 "metadata": {
  "language_info": {
   "name": "python"
  }
 },
 "nbformat": 4,
 "nbformat_minor": 2
}
