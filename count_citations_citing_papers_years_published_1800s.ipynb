{
 "cells": [
  {
   "cell_type": "code",
   "execution_count": null,
   "metadata": {},
   "outputs": [],
   "source": [
    "import matplotlib.pyplot as plt \n",
    "import numpy as np\n",
    "import pandas as pd\n",
    "import powerlaw\n",
    "import scipy"
   ]
  },
  {
   "cell_type": "code",
   "execution_count": null,
   "metadata": {},
   "outputs": [],
   "source": [
    "data_path = '/scratch/network/science-of-science/data/openalex-202201'"
   ]
  },
  {
   "cell_type": "code",
   "execution_count": null,
   "metadata": {},
   "outputs": [],
   "source": [
    "def read_prepared_data(path: str, source: str, cols: list, types: dict) -> pd.DataFrame:\n",
    "    dfs = []\n",
    "    for df_small in pd.read_csv(f\"{path}/{source}.txt.gz\", chunksize=10000, usecols=cols, sep='\\t', compression='gzip', dtype=types, on_bad_lines='skip', low_memory=False):\n",
    "        dfs.append(df_small)\n",
    "    return pd.concat(dfs)\n",
    "    \n",
    "def fitting_procedure_yearly(year: int, col: pd.Series):\n",
    "    fit = powerlaw.Fit(col, discrete=True, fit_method='KS')\n",
    "    k_min_fit = round(fit.find_xmin(), 1)\n",
    "    gamma = round(fit.alpha, 1)\n",
    "    fig = fit.plot_pdf(linewidth=3, label=f'Empirical Data: Year={year}, Gamma={gamma}')\n",
    "    fit.power_law.plot_pdf(ax=fig, linestyle='--', label='Power law fit')\n",
    "    handles, labels = fig.get_legend_handles_labels()\n",
    "    fig.legend(handles, labels, loc=3)\n",
    "    fig.set_ylabel(\"p(X)\")\n",
    "    fig.set_xlabel(r\"Citation Frequency\")\n",
    "    fig.set_title(r\"Probability Density Function of Citation Frequency for Citing Papers Published this Year\")\n",
    "    return k_min_fit, gamma\n",
    "\n",
    "def fitting_procedure_total(col: pd.Series):\n",
    "    fit = powerlaw.Fit(col, discrete=True, fit_method='KS')\n",
    "    k_min_fit = round(fit.find_xmin(), 1)\n",
    "    gamma = round(fit.alpha, 1)\n",
    "    fig = fit.plot_pdf(linewidth=3)\n",
    "    fit.power_law.plot_pdf(ax=fig, linestyle='--', label='Power law fit')\n",
    "    fig.set_ylabel(\"p(X)\")\n",
    "    fig.set_xlabel(r\"Citation Frequency\")\n",
    "    fig.set_title(r\"Probability Density Function of Citation Frequency for Citing Papers Published 1828 to 1899\")\n",
    "    return k_min_fit, gamma"
   ]
  },
  {
   "cell_type": "code",
   "execution_count": null,
   "metadata": {},
   "outputs": [],
   "source": [
    "cited_ids_df = read_prepared_data(data_path, \"PaperReferences\", ['PaperId', 'PaperReferenceId'], {\"PaperId\":'Int64', \"PaperReferenceId\":'Int64'})\n",
    "papers_df = read_prepared_data(data_path, \"Papers\", ['PaperId', 'Year'], {\"PaperId\": str, \"Year\": str})"
   ]
  },
  {
   "cell_type": "code",
   "execution_count": null,
   "metadata": {},
   "outputs": [],
   "source": [
    "papers_df['PaperId'] = pd.to_numeric(papers_df['PaperId'], errors='coerce', downcast='integer')\n",
    "papers_df['Year'] = pd.to_numeric(papers_df['Year'], errors='coerce', downcast='integer')\n",
    "papers_df['PaperId'] = papers_df['PaperId'].astype('Int64')\n",
    "papers_df['Year'] = papers_df['Year'].astype('Int64')"
   ]
  },
  {
   "cell_type": "code",
   "execution_count": null,
   "metadata": {},
   "outputs": [],
   "source": [
    "cited_ids_df = cited_ids_df.set_index('PaperId')"
   ]
  },
  {
   "cell_type": "code",
   "execution_count": null,
   "metadata": {},
   "outputs": [],
   "source": [
    "papers_1800s_df = papers_df[papers_df['Year'] < 1900] "
   ]
  },
  {
   "cell_type": "code",
   "execution_count": null,
   "metadata": {},
   "outputs": [],
   "source": [
    "cited_ids_and_years_df = pd.merge(cited_ids_df, papers_1800s_df, on='PaperId')\n",
    "cited_ids_and_years_df['CitationCount'] = cited_ids_and_years_df.groupby(['PaperReferenceId', 'Year']).transform('size')\n",
    "cited_ids_and_years_df = cited_ids_and_years_df.drop_duplicates(subset=['PaperReferenceId'])\n",
    "cited_ids_and_years_df = cited_ids_and_years_df.drop(columns=['PaperId']).drop_duplicates()"
   ]
  },
  {
   "cell_type": "code",
   "execution_count": null,
   "metadata": {},
   "outputs": [],
   "source": [
    "cited_papers_df = cited_ids_and_years_df.dropna(subset='Year')\n",
    "\n",
    "unique_years_cited_papers = sorted(cited_papers_df.Year.unique())\n",
    "years_to_remove = [5, 6, 12, 20,73, 104, 127, 130, 155, 162, 163, 923, 1800, 1802, 1803, 1805, 1806, 1807, 1809, 1810, 1811, 1813, 1814, 1815, 1816, 1819, 1820, 1821, 1823, 1824, 1825, 1826, 1827, 1829, 1830, 1831, 1832, 1833, 1834, 1835, 1836, 1837, 1838, 1839, 1840, 1841, 1842, 1843, 1844, 1845, 1846, 1847, 1848, 1849, 1850, 1851, 1854, 1856, 1857, 1858, 1859, 1860, 1863, 1866, 1867, 1871]\n",
    "for year in years_to_remove:\n",
    "    unique_years_cited_papers.remove(year)\n",
    "\n",
    "cited_papers_dict = {elem : pd.DataFrame() for elem in unique_years_cited_papers}\n",
    "\n",
    "for key in cited_papers_dict.keys():\n",
    "    cited_papers_dict[key] = cited_papers_df[:][cited_papers_df.Year == key]\n",
    "\n",
    "for key, df in cited_papers_dict.items():\n",
    "    new_df = df.drop(columns=['Year'])\n",
    "    cited_papers_dict.update({key: new_df})"
   ]
  },
  {
   "cell_type": "code",
   "execution_count": null,
   "metadata": {},
   "outputs": [],
   "source": [
    "for key,df in cited_papers_dict.items():\n",
    "    k_min, gamma = fitting_procedure_yearly(key, df['CitationCount'])\n",
    "    print(f\"{key}, {gamma}\")\n",
    "    plt.show()"
   ]
  },
  {
   "cell_type": "code",
   "execution_count": null,
   "metadata": {},
   "outputs": [],
   "source": [
    "for key,df in cited_papers_dict.items():\n",
    "    k_min, gamma = fitting_procedure_total(df['CitationCount'])"
   ]
  }
 ],
 "metadata": {
  "language_info": {
   "name": "python"
  }
 },
 "nbformat": 4,
 "nbformat_minor": 2
}
